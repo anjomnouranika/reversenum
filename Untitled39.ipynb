{
  "nbformat": 4,
  "nbformat_minor": 0,
  "metadata": {
    "colab": {
      "name": "Untitled39.ipynb",
      "provenance": [],
      "collapsed_sections": [],
      "authorship_tag": "ABX9TyPE27eqqG88hp2RdTBfnGrW",
      "include_colab_link": true
    },
    "kernelspec": {
      "name": "python3",
      "display_name": "Python 3"
    }
  },
  "cells": [
    {
      "cell_type": "markdown",
      "metadata": {
        "id": "view-in-github",
        "colab_type": "text"
      },
      "source": [
        "<a href=\"https://colab.research.google.com/github/anjomnouranika/reversenum/blob/master/Untitled39.ipynb\" target=\"_parent\"><img src=\"https://colab.research.google.com/assets/colab-badge.svg\" alt=\"Open In Colab\"/></a>"
      ]
    },
    {
      "cell_type": "code",
      "metadata": {
        "id": "AAhoZ83uUH3b",
        "colab_type": "code",
        "colab": {
          "base_uri": "https://localhost:8080/",
          "height": 54
        },
        "outputId": "43329c3b-a34f-4623-e33c-959fd143ae68"
      },
      "source": [
        "number = int(input(\"\"))\n",
        "reverse = 0\n",
        "while (number != 0):\n",
        "  reverse = reverse * 10 + (number % 10)\n",
        "  number = number // 10\n",
        "print(\"reverse number =\",reverse)  "
      ],
      "execution_count": 2,
      "outputs": [
        {
          "output_type": "stream",
          "text": [
            "1234\n",
            "reverse number = 4321\n"
          ],
          "name": "stdout"
        }
      ]
    }
  ]
}